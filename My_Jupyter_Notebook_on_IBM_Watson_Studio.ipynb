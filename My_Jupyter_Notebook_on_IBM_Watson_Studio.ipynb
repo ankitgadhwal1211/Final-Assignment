{
 "cells": [
  {
   "cell_type": "markdown",
   "id": "e84289ad-39fd-4cb1-84c5-f37fdcf8844d",
   "metadata": {
    "tags": []
   },
   "source": [
    "# My Jupyter Notebook on IBM Watson Studio"
   ]
  },
  {
   "cell_type": "markdown",
   "id": "64a0dc80-7e6f-484a-bac9-15bc978624c7",
   "metadata": {},
   "source": [
    " **Ankit Gadhwal**\n",
    "***\n",
    "Currently I am pursuing B.tech with computer science branch. I want to became an data scientist as i am interested in solving mathematical problems and as i am an computer science student i also know programming languages too. "
   ]
  },
  {
   "cell_type": "markdown",
   "id": "8b8814cc-dd61-4d06-a32e-f8c048267068",
   "metadata": {},
   "source": [
    "*I am interested in data science because it is a \"concept to unify statistics, data analysis, machine learning and their related methods\" in order to \"understand and analyze actual phenomena\" with data. It employs techniques and theories drawn from many fields within the context of mathematics, statistics, computer science, and information science.*"
   ]
  },
  {
   "cell_type": "markdown",
   "id": "8f233011-9095-466b-a21e-7c85857a0709",
   "metadata": {},
   "source": [
    "### Arithmetic operator"
   ]
  },
  {
   "cell_type": "code",
   "execution_count": 3,
   "id": "220938b3-c13d-44ed-acfe-aefd0b7cc773",
   "metadata": {},
   "outputs": [
    {
     "name": "stdout",
     "output_type": "stream",
     "text": [
      "sum of a and b is:  57\n"
     ]
    }
   ],
   "source": [
    "a=34\n",
    "b=23\n",
    "print(\"sum of a and b is: \", a+b)"
   ]
  },
  {
   "cell_type": "code",
   "execution_count": null,
   "id": "c7a99a58-7ff1-4679-96d3-64a8066281f3",
   "metadata": {},
   "outputs": [],
   "source": []
  }
 ],
 "metadata": {
  "kernelspec": {
   "display_name": "Python",
   "language": "python",
   "name": "conda-env-python-py"
  },
  "language_info": {
   "codemirror_mode": {
    "name": "ipython",
    "version": 3
   },
   "file_extension": ".py",
   "mimetype": "text/x-python",
   "name": "python",
   "nbconvert_exporter": "python",
   "pygments_lexer": "ipython3",
   "version": "3.7.12"
  }
 },
 "nbformat": 4,
 "nbformat_minor": 5
}
